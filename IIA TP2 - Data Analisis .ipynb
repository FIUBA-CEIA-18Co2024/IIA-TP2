{
 "cells": [
  {
   "cell_type": "markdown",
   "id": "b5d817da",
   "metadata": {},
   "source": [
    "<div style=\"text-align: center;\">\n",
    "    <img src=\"img/logo.png\" width=\"400\" alt=\"logo_uba\">\n",
    "</div>\n",
    "\n",
    "**Alumnos:** <br />\n",
    "Pablo Martin Gomez Verdini - gomezpablo86@gmail.com <br />\n",
    "Diego Paciotti Iacchelli - diegopaciotti@gmail.com  <br />\n",
    "Joaquin Gonzalez - joagonzalez@gmail.com <br />\n",
    "\n",
    "**Repositorio Github**<br />\n",
    "https://github.com/FIUBA-CEIA-18Co2024/IIA-TP2 <br />\n"
   ]
  },
  {
   "cell_type": "code",
   "execution_count": 1,
   "id": "0012bc4a-8955-49e5-b8ac-3feb09682605",
   "metadata": {},
   "outputs": [],
   "source": [
    "from sklearn.datasets import fetch_california_housing\n",
    "housing = fetch_california_housing()\n",
    "print(housing.data.shape, housing.target.shape)\n",
    "print(housing.feature_names[0:6])"
   ]
  }
 ],
 "metadata": {
  "kernelspec": {
   "display_name": "Python 3 (ipykernel)",
   "language": "python",
   "name": "python3"
  },
  "language_info": {
   "codemirror_mode": {
    "name": "ipython",
    "version": 3
   },
   "file_extension": ".py",
   "mimetype": "text/x-python",
   "name": "python",
   "nbconvert_exporter": "python",
   "pygments_lexer": "ipython3",
   "version": "3.10.12"
  }
 },
 "nbformat": 4,
 "nbformat_minor": 5
}
